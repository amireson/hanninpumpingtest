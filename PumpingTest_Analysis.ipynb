{
 "cells": [
  {
   "cell_type": "markdown",
   "metadata": {},
   "source": [
    "# Unconfined aquifer pumping test\n",
    "\n",
    "\n",
    "A solution to the steady-state drawdown (cone of depression) in an unconfined aquifer was derived by Theim - the \"Theim solution\". Consider the diagram below. $b$ represents the saturated thickness. Prior to pumping, the water table is at the static water level, and the saturated thickness is $b_0$ (m). We can work out $b_0$ if we know the depth to the base of the aquifer (in our case the base of the sand) from drillers logs, and we know the depth below ground of the water table before pumping.\n",
    "\n",
    "When the aquifer is pumped for some period of time, with the pump still running, we should check whether or not the water table has stopped changing. Once we are convinced that the water table is not changing, we can be satisfied that we have reached steady conditions, and that this Theim method of analysis is appropriate.\n",
    "\n",
    "![](Fetter_Theim.png)\n",
    "\n",
    "Figure 1. Steady-state pumping cone of depression (from Fetter, Applied Hydrogeology, 4th edition, p.167)\n",
    "\n",
    "The Thiem solution to calculate the saturated thickness of the aquifer, $b$ (m), at a given radius, $r$ (m), is given by\n",
    "\n",
    "$$b^2-b_1^2=\\frac{Q}{\\pi K}\\ln\\left(\\frac{r}{r_1}\\right)$$\n",
    "\n",
    "where $K$ is hydraulic conductivity (m/min), $Q$ is pumping rate (m$^3$/min), $b_1$ is a known saturated thickness at distance $r_1$ (which could be one known point on the cone of depression). Changing $K$ changes the steepness of the cone of depression. The above equation can be used to simulate the aquifer thickness, or the equivalent drawdown, and compared with observed drawdown values. \n",
    "\n",
    "This notebook is set up to load drawdown data for different piezometers and to compare the Theim solution with the observations. However, to make this work, you will need to enter three parameters, where indicated below. Do not change anything else in this script except to replace the `???`.\n"
   ]
  },
  {
   "cell_type": "code",
   "execution_count": null,
   "metadata": {},
   "outputs": [],
   "source": [
    "import numpy as np\n",
    "import matplotlib.pyplot as pl\n",
    "import pandas as pd"
   ]
  },
  {
   "cell_type": "code",
   "execution_count": null,
   "metadata": {},
   "outputs": [],
   "source": [
    "# The Theim solution: calculates the saturated thickness as a function of radius \n",
    "# for a given flow rate and hydraulic conductivity\n",
    "def Theim(r,r1,b1,Q,K):\n",
    "    LHS=Q/np.pi/K*np.log(r/r1)\n",
    "    b=np.sqrt(LHS+b1**2)\n",
    "    return b"
   ]
  },
  {
   "cell_type": "code",
   "execution_count": null,
   "metadata": {},
   "outputs": [],
   "source": [
    "# Load ground elevation and piezometer distances from well\n",
    "GE,r=np.loadtxt('WellPiezoData.csv',delimiter=',',skiprows=1,usecols=(1,2),unpack=True)"
   ]
  },
  {
   "cell_type": "code",
   "execution_count": null,
   "metadata": {},
   "outputs": [],
   "source": [
    "# Load drawdown data\n",
    "t,h4d=np.loadtxt('Piez4_drawdown.csv',delimiter=',',skiprows=1,unpack=True)\n",
    "t,h3d=np.loadtxt('Piez3_drawdown.csv',delimiter=',',skiprows=1,unpack=True)\n",
    "t,h1d=np.loadtxt('Piez1_drawdown.csv',delimiter=',',skiprows=1,unpack=True)\n",
    "t,wd=np.loadtxt('Well_drawdown.csv',delimiter=',',skiprows=1,unpack=True)"
   ]
  },
  {
   "cell_type": "code",
   "execution_count": null,
   "metadata": {},
   "outputs": [],
   "source": [
    "# Convert to drawdown and put into an array ddn(radius,time):\n",
    "h4d=h4d-h4d[0]\n",
    "h3d=h3d-h3d[0]\n",
    "h1d=h1d-h1d[0]\n",
    "wd=wd-wd[0]\n",
    "ddn=np.array([wd,h1d,h3d,h4d])\n",
    "rad=r[[0,1,3,4]]"
   ]
  },
  {
   "cell_type": "code",
   "execution_count": null,
   "metadata": {},
   "outputs": [],
   "source": [
    "pl.figure(figsize=(10,4))\n",
    "pl.subplot(1,2,1)\n",
    "pl.plot(rad,ddn[:,:],'.-')\n",
    "pl.ylim(1,-.05)\n",
    "pl.grid()\n",
    "pl.xlabel('Distance from well (m)')\n",
    "pl.ylabel('Drawdown (m)')\n",
    "pl.title('All time (t=0 to 60 min)')\n",
    "pl.subplot(1,2,2)\n",
    "pl.plot(rad,ddn[:,-3:],'.-')\n",
    "pl.ylim(1,-.05)\n",
    "pl.grid()\n",
    "pl.xlabel('Distance from well (m)')\n",
    "pl.title('Late time (t>30 min)')\n",
    "pl.show()"
   ]
  },
  {
   "cell_type": "markdown",
   "metadata": {},
   "source": [
    "### Instructions:\n",
    "\n",
    "In the block of code below you must enter the pumping rate, `Q`, the resting saturated thickness, `b0`, and the hydraulic conductivity, `K`. You should find the best `K` value that fits the observed drawdown.  "
   ]
  },
  {
   "cell_type": "code",
   "execution_count": null,
   "metadata": {},
   "outputs": [],
   "source": [
    "# Parameters\n",
    "K=???        # m/min\n",
    "Q=???        # m3/min\n",
    "b0=???       # m\n",
    "\n",
    "# Do not change the code below here:\n",
    "# Take piezo 1 as a known condition, r1,b1:\n",
    "r1=r[1]\n",
    "b1=b0-ddn[1,-1]\n",
    "\n",
    "# Solve and plot against observations:\n",
    "ra=np.linspace(0,30)\n",
    "ra[0]=0.005\n",
    "b=Theim(ra,r1,b1,Q,K)\n",
    "pl.plot(ra,b,'r',label='Theim solution')\n",
    "pl.plot(rad,b0-ddn[:,-1],'xk',label='Observations (t$\\geq$30 min)')\n",
    "pl.plot(rad,b0-ddn[:,-3:],'xk')\n",
    "pl.xlabel('Distance from well (m)',fontsize=12)\n",
    "pl.ylabel('Drawdown (m)',fontsize=12)\n",
    "pl.title('Fitting performance',fontsize=12)\n",
    "pl.legend(loc=4,fontsize=12)\n",
    "pl.show()"
   ]
  },
  {
   "cell_type": "code",
   "execution_count": null,
   "metadata": {},
   "outputs": [],
   "source": [
    "print('The hydraulic conductivity of the aquifer is %.1e m/min'%(K/60))\n",
    "print('The hydraulic conductivity of the aquifer is %.3f m/d'%(K*60*24))"
   ]
  },
  {
   "cell_type": "code",
   "execution_count": null,
   "metadata": {},
   "outputs": [],
   "source": [
    "# Nice plot\n",
    "pl.figure(figsize=(13,4))\n",
    "pl.subplots_adjust(wspace=0.02)\n",
    "pl.subplot(1,3,1)\n",
    "pl.plot(rad,ddn[:,:],'.-')\n",
    "pl.ylim(1,-.05)\n",
    "pl.grid()\n",
    "pl.xlabel('Distance from well (m)',fontsize=12)\n",
    "pl.ylabel('Drawdown (m)',fontsize=12)\n",
    "pl.title('All time (t=0 to 60 min)',fontsize=12)\n",
    "\n",
    "pl.subplot(1,3,2)\n",
    "pl.plot(rad,ddn[:,-3:],'.-')\n",
    "pl.ylim(1,-.05)\n",
    "pl.grid()\n",
    "pl.xlabel('Distance from well (m)',fontsize=12)\n",
    "pl.title('Late time (t>30 min)',fontsize=12)\n",
    "pl.gca().set_yticklabels('')\n",
    "\n",
    "pl.subplot(1,3,3)\n",
    "pl.plot(rad,ddn[:,-1],'xk',label='Observations (t$\\geq$30 min)')\n",
    "pl.plot(rad,ddn[:,-3:],'xk')\n",
    "pl.plot(ra,b0-b,'r',linewidth=2,label='Theim solution, K= %.0f m/d'%(K*24*60))\n",
    "pl.legend(loc=4,fontsize=12)\n",
    "pl.ylim(1,-.05)\n",
    "pl.grid()\n",
    "pl.xlabel('Distance from well (m)',fontsize=12)\n",
    "pl.title('Theim solution for late time',fontsize=12)\n",
    "pl.gca().set_yticklabels('')\n",
    "\n",
    "# pl.show()\n",
    "\n",
    "pl.savefig('Drawdown.png')"
   ]
  },
  {
   "cell_type": "code",
   "execution_count": null,
   "metadata": {},
   "outputs": [],
   "source": []
  }
 ],
 "metadata": {
  "kernelspec": {
   "display_name": "Python 3",
   "language": "python",
   "name": "python3"
  },
  "language_info": {
   "codemirror_mode": {
    "name": "ipython",
    "version": 3
   },
   "file_extension": ".py",
   "mimetype": "text/x-python",
   "name": "python",
   "nbconvert_exporter": "python",
   "pygments_lexer": "ipython3",
   "version": "3.7.3"
  }
 },
 "nbformat": 4,
 "nbformat_minor": 2
}
